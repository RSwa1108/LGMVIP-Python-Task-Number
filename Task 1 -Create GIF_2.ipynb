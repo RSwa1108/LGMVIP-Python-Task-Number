{
 "cells": [
  {
   "cell_type": "code",
   "execution_count": 1,
   "id": "9a6f8652",
   "metadata": {},
   "outputs": [],
   "source": [
    "from PIL import Image, ImageDraw"
   ]
  },
  {
   "cell_type": "code",
   "execution_count": 2,
   "id": "2628c983",
   "metadata": {},
   "outputs": [],
   "source": [
    "#create function to\n",
    "def make_gif(image_path,output_path):\n",
    "    images=[Image.open(img) for img in image_path]\n",
    "    \n",
    "    m_width = max(image.width for image in images)\n",
    "    m_height = max(image.height for image in images)\n",
    "    \n",
    "    \n",
    "    make_image = []\n",
    "    \n",
    "    for img in images:\n",
    "        new_image = Image.new('RGBA',(m_width,m_height),(255,255,255,0))\n",
    "        \n",
    "        pos = (\n",
    "            (m_width - img.width) //2,\n",
    "            (m_height - img.height) //2\n",
    "        )\n",
    "        \n",
    "        new_image.paste(img ,pos)\n",
    "        make_image.append(new_image)\n",
    "        \n",
    "        \n",
    "    make_image[0].save(\n",
    "        output_path,\n",
    "        save_all =True ,\n",
    "        append_images= make_image[1:],\n",
    "        optimize =False, \n",
    "        duraion = 200,\n",
    "        loop =0, \n",
    "        transparency =0\n",
    "    )\n",
    "    \n",
    "    \n",
    "image_files = [\"C:\\\\Users\\\\Swapnil\\\\Pictures\\\\Untitled.jpg\",\"C:\\\\Users\\\\Swapnil\\\\Pictures\\\\Untitled1.jpg\",\n",
    "               \"C:\\\\Users\\\\Swapnil\\\\Pictures\\\\images.jpg\",\n",
    "              \"C:\\\\Users\\\\Swapnil\\\\Pictures\\\\Untitled2.jpg\"]\n",
    "output_gif = \"output.gif\"\n",
    "\n",
    "make_gif(image_files,output_gif)\n",
    "        "
   ]
  },
  {
   "cell_type": "raw",
   "id": "43052048",
   "metadata": {},
   "source": []
  },
  {
   "cell_type": "raw",
   "id": "37c96d71",
   "metadata": {},
   "source": []
  },
  {
   "cell_type": "code",
   "execution_count": null,
   "id": "29339b8d",
   "metadata": {},
   "outputs": [],
   "source": []
  },
  {
   "cell_type": "code",
   "execution_count": null,
   "id": "833b9b0e",
   "metadata": {},
   "outputs": [],
   "source": []
  },
  {
   "cell_type": "code",
   "execution_count": null,
   "id": "dd2ecf2b",
   "metadata": {},
   "outputs": [],
   "source": []
  },
  {
   "cell_type": "code",
   "execution_count": null,
   "id": "15f12628",
   "metadata": {},
   "outputs": [],
   "source": []
  }
 ],
 "metadata": {
  "kernelspec": {
   "display_name": "Python 3 (ipykernel)",
   "language": "python",
   "name": "python3"
  },
  "language_info": {
   "codemirror_mode": {
    "name": "ipython",
    "version": 3
   },
   "file_extension": ".py",
   "mimetype": "text/x-python",
   "name": "python",
   "nbconvert_exporter": "python",
   "pygments_lexer": "ipython3",
   "version": "3.9.13"
  }
 },
 "nbformat": 4,
 "nbformat_minor": 5
}
