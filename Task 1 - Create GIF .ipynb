{
 "cells": [
  {
   "cell_type": "code",
   "execution_count": 10,
   "id": "738f2539",
   "metadata": {},
   "outputs": [],
   "source": [
    "from PIL import Image, ImageDraw"
   ]
  },
  {
   "cell_type": "code",
   "execution_count": 11,
   "id": "7fad0fee",
   "metadata": {},
   "outputs": [],
   "source": [
    "images = []            #empty list to append gif file\n",
    "width = 500                # width for gif outer box\n",
    "centre = width //2        #size of middle portion of gif\n",
    "\n",
    "#Colorcode\n",
    "color_1 = (255,255,0)     \n",
    "color_2 = (255,0,255)\n",
    "color_3= (255,0,0)\n",
    "\n",
    "max_radius = int(centre * 1.5)         #radi\n",
    "step = 10"
   ]
  },
  {
   "cell_type": "code",
   "execution_count": 12,
   "id": "24518908",
   "metadata": {},
   "outputs": [],
   "source": [
    "for i in range( 0,max_radius,step):\n",
    "    im = Image.new('RGBA',(width,width), color_2)        #values of the square\n",
    "    draw =ImageDraw.Draw(im)                                # create square image\n",
    "    #circle in that square image\n",
    "    draw.ellipse((centre -i , centre-i,\n",
    "                 centre + i, centre+i),\n",
    "                 fill = color_1,\n",
    "                outline = color_3)\n",
    "    images.append(im)                        #appending image into empty list"
   ]
  },
  {
   "cell_type": "code",
   "execution_count": 15,
   "id": "e8129477",
   "metadata": {},
   "outputs": [],
   "source": [
    "#save gif image\n",
    "images[0].save('Gif_p.gif',save_all =True ,append_images= images[1:],\n",
    "              optimize =False, duraion =  200)"
   ]
  },
  {
   "cell_type": "code",
   "execution_count": null,
   "id": "962fac94",
   "metadata": {},
   "outputs": [],
   "source": []
  },
  {
   "cell_type": "code",
   "execution_count": null,
   "id": "193e3af9",
   "metadata": {},
   "outputs": [],
   "source": []
  },
  {
   "cell_type": "code",
   "execution_count": null,
   "id": "c644b8ff",
   "metadata": {},
   "outputs": [],
   "source": []
  }
 ],
 "metadata": {
  "kernelspec": {
   "display_name": "Python 3 (ipykernel)",
   "language": "python",
   "name": "python3"
  },
  "language_info": {
   "codemirror_mode": {
    "name": "ipython",
    "version": 3
   },
   "file_extension": ".py",
   "mimetype": "text/x-python",
   "name": "python",
   "nbconvert_exporter": "python",
   "pygments_lexer": "ipython3",
   "version": "3.9.13"
  }
 },
 "nbformat": 4,
 "nbformat_minor": 5
}
