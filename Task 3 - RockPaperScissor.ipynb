{
 "cells": [
  {
   "cell_type": "code",
   "execution_count": 1,
   "id": "7af8165d",
   "metadata": {},
   "outputs": [],
   "source": [
    "#import _random_ fucntion to to generate random variables\n",
    "import random\n",
    "import time"
   ]
  },
  {
   "cell_type": "code",
   "execution_count": 2,
   "id": "f718c988",
   "metadata": {},
   "outputs": [
    {
     "name": "stdout",
     "output_type": "stream",
     "text": [
      "Welcome to the Gamee......Rock, Paper, Scissors!\n",
      "\n"
     ]
    }
   ],
   "source": [
    "print(\"Welcome to the Gamee......Rock, Paper, Scissors!\\n\")   #welcome statement\n",
    "\n",
    "# setting variable value of 0 to win counter variables. \n",
    "player_score = 0\n",
    "computer_score = 0"
   ]
  },
  {
   "cell_type": "code",
   "execution_count": 3,
   "id": "e190795f",
   "metadata": {},
   "outputs": [
    {
     "name": "stdout",
     "output_type": "stream",
     "text": [
      "Enter a choice (rock, paper, scissors): paper\n",
      "\n",
      "You chose paper, computer chose scissors.\n",
      "\n",
      "Wait for some time to hear the WINNER....!.\n",
      "Scissors cuts paper.Sorry.... You lose.\n",
      "\n",
      "Wait for some time to hear the Score....!.\n",
      "Your score is 0\n",
      "The computer score is 1\n",
      "\n",
      "Do you wanna Play again? (yes/no): yes\n",
      "Enter a choice (rock, paper, scissors): rock\n",
      "\n",
      "You chose rock, computer chose scissors.\n",
      "\n",
      "Wait for some time to hear the WINNER....!.\n",
      "Rock smashes scissors. You win!\n",
      "\n",
      "Wait for some time to hear the Score....!.\n",
      "Your score is 1\n",
      "The computer score is 1\n",
      "\n",
      "Do you wanna Play again? (yes/no): no\n",
      "Thanks for playing!...Come again Play & Have Funnnn\n"
     ]
    }
   ],
   "source": [
    "#creating while loop to run conditions as long as it become true\n",
    "while True:\n",
    "    player = input(\"Enter a choice (rock, paper, scissors): \")  #taking input from player\n",
    "    choices = [\"rock\", \"paper\", \"scissors\"]\n",
    "    computer = random.choice(choices)                       #creating computer as second player and giving random choices\n",
    "    print(f\"\\nYou chose {player}, computer chose {computer}.\")\n",
    "    \n",
    "    \n",
    "    print(f\"\\nWait for some time to hear the WINNER....!.\")\n",
    "    wait_time = time.sleep(10)\n",
    "    \n",
    "    \n",
    "    #Condition 1 : if player and computer is same\n",
    "    if player == computer:\n",
    "        print(f\"Both players selected {player}. It is a tie!\")\n",
    "        \n",
    "    #Condition 2 : if player==rock and computer = Scissor then player wins and if computer = Paper then computer wins\n",
    "    elif player == \"rock\":\n",
    "        if computer == \"scissors\":\n",
    "            print(\"Rock smashes scissors. You win!\")\n",
    "            player_score+=1\n",
    "        else:\n",
    "            print(\"Paper covers rock. Sorry.... You lose.\")\n",
    "            computer_score+=1\n",
    "    \n",
    "    #Condition 3 : if player==paper and computer = rock then player wins and if computer = scissor then computer wins\n",
    "    elif player == \"paper\":\n",
    "        if computer == \"rock\":\n",
    "            print(\"Paper covers rock. You win!\")\n",
    "            player_score+=1\n",
    "        else:\n",
    "            print(\"Scissors cuts paper.Sorry.... You lose.\")\n",
    "            computer_score+=1\n",
    "            \n",
    "    #Condition 4 : if player== Scissor and computer = Paper then player wins and if computer = rock then computer wins\n",
    "    elif player == \"scissors\":\n",
    "        if computer == \"paper\":\n",
    "            print(\"Scissors cuts paper. You win!\")\n",
    "            player_score+=1\n",
    "        else:\n",
    "            print(\"Rock smashes scissors. Sorry.... You lose.\")\n",
    "            computer_score+=1\n",
    "            \n",
    "            \n",
    "    print(f\"\\nWait for some time to hear the Score....!.\")\n",
    "    wait_time = time.sleep(5)  \n",
    "    \n",
    "    print(\"Your score is \"+str(player_score))\n",
    "    print(\"The computer score is \"+str(computer_score))\n",
    "    \n",
    "    repeat = input(\"\\nDo you wanna Play again? (yes/no): \")\n",
    "    if repeat.lower() != \"yes\":\n",
    "        print(\"Thanks for playing!...Come again Play & Have Funnnn\")\n",
    "        break"
   ]
  },
  {
   "cell_type": "code",
   "execution_count": null,
   "id": "47d6a807",
   "metadata": {},
   "outputs": [],
   "source": [
    "    \n",
    "    "
   ]
  },
  {
   "cell_type": "code",
   "execution_count": null,
   "id": "48ebf66c",
   "metadata": {},
   "outputs": [],
   "source": []
  },
  {
   "cell_type": "code",
   "execution_count": null,
   "id": "0b432818",
   "metadata": {},
   "outputs": [],
   "source": []
  }
 ],
 "metadata": {
  "kernelspec": {
   "display_name": "Python 3 (ipykernel)",
   "language": "python",
   "name": "python3"
  },
  "language_info": {
   "codemirror_mode": {
    "name": "ipython",
    "version": 3
   },
   "file_extension": ".py",
   "mimetype": "text/x-python",
   "name": "python",
   "nbconvert_exporter": "python",
   "pygments_lexer": "ipython3",
   "version": "3.9.13"
  }
 },
 "nbformat": 4,
 "nbformat_minor": 5
}
